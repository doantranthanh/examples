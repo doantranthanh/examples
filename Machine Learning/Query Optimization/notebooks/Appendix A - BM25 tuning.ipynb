{
 "cells": [
  {
   "cell_type": "markdown",
   "metadata": {},
   "source": [
    "# Appendix A: Tuning BM25 parameters for the MSMARCO Document dataset\n",
    "\n",
    "The following shows a principled, data-driven approach to tuning BM25 parameters with a basic query, using the MSMARCO Document dataset. This assumes familiarity with basic query tuning as shown in the \"Query tuning\" notebooks.\n",
    "\n",
    "BM25 contains two parameters `k1` and `b`. Roughly speaking (very roughly), `k1` controls the amount of term saturation (at some point, more terms does not mean more relevant) and `b` controls the importance of document length. A deeper look into these parameters is beyond the scope of this notebook, but our [three part blog series on understanding BM25](https://www.elastic.co/blog/practical-bm25-part-1-how-shards-affect-relevance-scoring-in-elasticsearch) is very useful for that.\n",
    "\n",
    "Be aware that not all query types will see improvements with BM25 tuning. Sometimes it's more impactful to just tune query parameters. As always you try it out with your datasets first and get concrete measurements. We recommend customizing index settings/analyzers first, then do query parmeter tuning and get your baseline measurements. Next, try the best index settings/analyzers with BM25 tuning, then do query parameter tuning and see if it makes any improvement on your baseline. If there's no significant difference it's best to just stick with the default BM25 parameters for simplicty."
   ]
  },
  {
   "cell_type": "code",
   "execution_count": 1,
   "metadata": {},
   "outputs": [],
   "source": [
    "%load_ext autoreload\n",
    "%autoreload 2"
   ]
  },
  {
   "cell_type": "code",
   "execution_count": 2,
   "metadata": {},
   "outputs": [],
   "source": [
    "import importlib\n",
    "import os\n",
    "import sys\n",
    "\n",
    "from elasticsearch import Elasticsearch\n",
    "from skopt.plots import plot_objective"
   ]
  },
  {
   "cell_type": "code",
   "execution_count": 3,
   "metadata": {},
   "outputs": [],
   "source": [
    "# project library\n",
    "sys.path.insert(0, os.path.abspath('..'))\n",
    "\n",
    "import qopt\n",
    "importlib.reload(qopt)\n",
    "\n",
    "from qopt.notebooks import evaluate_mrr100_dev, optimize_bm25_mrr100\n",
    "from qopt.optimize import Config, set_bm25_parameters"
   ]
  },
  {
   "cell_type": "code",
   "execution_count": 12,
   "metadata": {},
   "outputs": [],
   "source": [
    "# use a local Elasticsearch or Cloud instance (https://cloud.elastic.co/)\n",
    "es = Elasticsearch('http://localhost:9200')\n",
    "\n",
    "# set the parallelization parameter `max_concurrent_searches` for the Rank Evaluation API calls\n",
    "max_concurrent_searches = 10\n",
    "\n",
    "index = 'msmarco-document'\n",
    "index_defaults = 'msmarco-document.defaults'\n",
    "template_id = 'combined_matches'\n",
    "\n",
    "# no query params\n",
    "query_params = {}\n",
    "\n",
    "# default Elasticsearch BM25 params\n",
    "default_bm25_params = {'k1': 1.2, 'b': 0.75}"
   ]
  },
  {
   "cell_type": "markdown",
   "metadata": {},
   "source": [
    "## Baseline evaluation\n",
    "\n",
    "For tuning the BM25 parameters, we're going to use just a `match` query per field, combined using a `bool` `should` query. This will search for query terms across the `url`, `title`, and `body` fields, and we'll be attempting to optimize the BM25 parameters that are used in the scoring function for each field. In theory, each field could have it's own BM25 [similarty](https://www.elastic.co/guide/en/elasticsearch/reference/current/index-modules-similarity.html#bm25) and parameters, but we'll leave that as an exercise to the reader.\n",
    "\n",
    "Since BM25 parameters are actually index settings in Elasticsearch (they are theoretically query parameters, but they are implemented as index settings to be consistent with other similarity modules), we need to make sure to set the parameters before any evaluation step. At optimization time, we'lll do the same process: set the BM25 parameters to try, then run the rank evaluation API on the training query dataset."
   ]
  },
  {
   "cell_type": "code",
   "execution_count": 5,
   "metadata": {},
   "outputs": [
    {
     "name": "stdout",
     "output_type": "stream",
     "text": [
      "Evaluation with: MRR@100\n",
      "Score: 0.2505\n",
      "CPU times: user 1.76 s, sys: 412 ms, total: 2.17 s\n",
      "Wall time: 1min\n"
     ]
    }
   ],
   "source": [
    "%%time\n",
    "\n",
    "set_bm25_parameters(es, index, **default_bm25_params)\n",
    "\n",
    "_ = evaluate_mrr100_dev(es, max_concurrent_searches, index, template_id, query_params)"
   ]
  },
  {
   "cell_type": "markdown",
   "metadata": {},
   "source": [
    "That's the same baseline that we've seen in the \"Query tuning\" notebook, so we know we're setup correctly."
   ]
  },
  {
   "cell_type": "markdown",
   "metadata": {},
   "source": [
    "## Optimization\n",
    "\n",
    "Now we're ready to run the optimization procedure and see if we can improve on that, while holding the default query parameters constant.\n",
    "\n",
    "We know that there's [roughly a standard range](https://www.elastic.co/blog/practical-bm25-part-3-considerations-for-picking-b-and-k1-in-elasticsearch) for each parameter, so we use those. We also set internally before running the optimization some static initial points to try, based on some well-known default parameter values:\n",
    "\n",
    "  * Elasticsearch defaults: `k1`: `1.2`, `b`: `0.75`\n",
    "  * Anserini [1] defaults: `k1`: `0.9`, `b`: `0.4`\n",
    "  \n",
    "[1] [anserini](https://github.com/castorini/anserini) is a commonly used tool in academia for research into search systems"
   ]
  },
  {
   "cell_type": "code",
   "execution_count": 7,
   "metadata": {},
   "outputs": [
    {
     "name": "stdout",
     "output_type": "stream",
     "text": [
      "Optimizing parameters\n",
      " - metric: MRR@100\n",
      " - queries: data/msmarco-document-sampled-queries.1000.tsv\n",
      " - queries: data/msmarco/document/msmarco-doctrain-qrels.tsv\n",
      " - iteration 2 scored 0.2188 with: {'k1': 0.9, 'b': 0.4}\n",
      " - iteration 3 scored 0.2177 with: {'k1': 0.8262593119854937, 'b': 0.39590722122914906}\n",
      " - iteration 4 scored 0.2281 with: {'k1': 2.6242793526756336, 'b': 0.8470562725252109}\n",
      " - iteration 5 scored 0.2354 with: {'k1': 3.0271036501675477, 'b': 0.6244865927298916}\n",
      " - iteration 6 scored 0.2286 with: {'k1': 1.7178519473756229, 'b': 0.6087878155448595}\n",
      " - iteration 7 scored 0.2337 with: {'k1': 4.57635828002087, 'b': 0.6565709416862926}\n",
      " - iteration 8 scored 0.2219 with: {'k1': 4.467533786660296, 'b': 0.4412128743108116}\n",
      " - iteration 9 scored 0.2321 with: {'k1': 4.633231086889658, 'b': 0.6440672545669435}\n",
      " - iteration 10 scored 0.2278 with: {'k1': 4.51457891503459, 'b': 0.8711539944898377}\n",
      " - iteration 11 scored 0.2178 with: {'k1': 1.2301296974310332, 'b': 0.9976070544432143}\n",
      " - iteration 12 scored 0.2345 with: {'k1': 4.219174698494088, 'b': 0.6408857527621398}\n",
      " - iteration 13 scored 0.2209 with: {'k1': 3.62026877966978, 'b': 0.9504958356264666}\n",
      " - iteration 14 scored 0.2262 with: {'k1': 3.900849858242705, 'b': 0.46488639294673717}\n",
      " - iteration 15 scored 0.2248 with: {'k1': 1.3651209161457372, 'b': 0.6969033710270867}\n",
      " - iteration 16 scored 0.2240 with: {'k1': 1.9252756471658794, 'b': 0.42484306498820124}\n",
      " - iteration 17 scored 0.2305 with: {'k1': 4.811344258522747, 'b': 0.5878055373148168}\n",
      " - iteration 18 scored 0.2194 with: {'k1': 0.7149494439933246, 'b': 0.8211321304659616}\n",
      " - iteration 19 scored 0.2216 with: {'k1': 4.083309071804393, 'b': 0.3871537020917264}\n",
      " - iteration 20 scored 0.2192 with: {'k1': 0.9826450986787743, 'b': 0.5284929889170495}\n",
      " - iteration 21 scored 0.2344 with: {'k1': 2.5373121068846443, 'b': 0.7423687722212795}\n",
      " - iteration 22 scored 0.2180 with: {'k1': 0.6471604012048078, 'b': 0.8916690577750057}\n",
      " - iteration 23 scored 0.2201 with: {'k1': 4.9489770898635435, 'b': 0.99714493648478}\n",
      " - iteration 24 scored 0.2229 with: {'k1': 2.6270197066663803, 'b': 0.302026453016584}\n",
      " - iteration 25 scored 0.2336 with: {'k1': 3.607329051216217, 'b': 0.7386702583701148}\n",
      " - iteration 26 scored 0.2329 with: {'k1': 4.995573292728731, 'b': 0.7583584233582601}\n",
      " - iteration 27 scored 0.2129 with: {'k1': 4.971226061414389, 'b': 0.30092322360124424}\n",
      " - iteration 28 scored 0.2347 with: {'k1': 3.0154083501025974, 'b': 0.6685125442737843}\n",
      " - iteration 29 scored 0.2125 with: {'k1': 0.503717093582193, 'b': 0.3040203642669673}\n",
      " - iteration 30 scored 0.2350 with: {'k1': 3.2514262457912935, 'b': 0.6638932685580342}\n",
      " - iteration 31 scored 0.2307 with: {'k1': 2.8342878020034643, 'b': 0.5247645332975682}\n",
      " - iteration 32 scored 0.2356 with: {'k1': 2.9969897388218687, 'b': 0.6756900648140032}\n",
      " - iteration 33 scored 0.2359 with: {'k1': 2.9161799069060463, 'b': 0.6753632178210609}\n",
      " - iteration 34 scored 0.2151 with: {'k1': 0.5281563371351422, 'b': 0.9999011210291884}\n",
      " - iteration 35 scored 0.2138 with: {'k1': 2.5427221256947456, 'b': 0.999187932875709}\n",
      " - iteration 36 scored 0.2350 with: {'k1': 2.710404501473997, 'b': 0.6735613138169645}\n",
      " - iteration 37 scored 0.2201 with: {'k1': 1.6276785800529918, 'b': 0.30066895038012154}\n",
      " - iteration 38 scored 0.2155 with: {'k1': 0.502568790422111, 'b': 0.6416570289998071}\n",
      " - iteration 39 scored 0.2339 with: {'k1': 4.254562110629456, 'b': 0.7534790949794483}\n",
      " - iteration 40 scored 0.2206 with: {'k1': 3.6998322099165204, 'b': 0.3005978680925213}\n",
      "Best score: 0.2359\n",
      "Best params: {'k1': 2.9161799069060463, 'b': 0.6753632178210609}\n",
      "Final params: {'k1': 2.9161799069060463, 'b': 0.6753632178210609}\n",
      "\n",
      "CPU times: user 36.3 s, sys: 8.97 s, total: 45.3 s\n",
      "Wall time: 7min 17s\n"
     ]
    }
   ],
   "source": [
    "%%time\n",
    "\n",
    "_, best_params, _, metadata = optimize_bm25_mrr100(es, max_concurrent_searches, index, template_id, query_params,\n",
    "    config_space=Config.parse({\n",
    "        'method': 'bayesian',\n",
    "        'num_iterations': 40,\n",
    "        'num_initial_points': 20,\n",
    "        'space': {\n",
    "            'k1': { 'low': 0.5, 'high': 5.0 },\n",
    "            'b': { 'low': 0.3, 'high': 1.0 },\n",
    "        }\n",
    "    }))"
   ]
  },
  {
   "cell_type": "markdown",
   "metadata": {},
   "source": [
    "Here's a look at the parameter space, which is easy to plot here since there are just two parameters. "
   ]
  },
  {
   "cell_type": "code",
   "execution_count": 8,
   "metadata": {},
   "outputs": [
    {
     "data": {
      "image/png": "[encoded data removed]",
      "text/plain": [
       "<Figure size 288x288 with 4 Axes>"
      ]
     },
     "metadata": {
      "needs_background": "light"
     },
     "output_type": "display_data"
    }
   ],
   "source": [
    "_ = plot_objective(metadata, sample_source='result')"
   ]
  },
  {
   "cell_type": "code",
   "execution_count": 9,
   "metadata": {},
   "outputs": [
    {
     "name": "stdout",
     "output_type": "stream",
     "text": [
      "Evaluation with: MRR@100\n",
      "Score: 0.2586\n",
      "CPU times: user 1.79 s, sys: 456 ms, total: 2.25 s\n",
      "Wall time: 56.1 s\n"
     ]
    }
   ],
   "source": [
    "%%time\n",
    "\n",
    "set_bm25_parameters(es, index, **best_params)\n",
    "\n",
    "_ = evaluate_mrr100_dev(es, max_concurrent_searches, index, template_id, query_params)"
   ]
  },
  {
   "cell_type": "markdown",
   "metadata": {},
   "source": [
    "Interesting that we do see an improvement but nothing significant. One hypothesis is that maybe our analyzers are doing work that means there's not much left to tune. Let's try this again but using the default analyzers with the index `msmarco-document.defaults`.\n",
    "\n",
    "First we set the baseline that we're comparing against. We expect it to be lower than the baseline with the custom analyzers. We saw this in the \"Analyzers\" notebook as well already."
   ]
  },
  {
   "cell_type": "code",
   "execution_count": 11,
   "metadata": {},
   "outputs": [
    {
     "name": "stdout",
     "output_type": "stream",
     "text": [
      "Evaluation with: MRR@100\n",
      "Score: 0.2403\n",
      "CPU times: user 2.64 s, sys: 1.48 s, total: 4.12 s\n",
      "Wall time: 1min 51s\n"
     ]
    }
   ],
   "source": [
    "%%time\n",
    "\n",
    "set_bm25_parameters(es, index_defaults, **default_bm25_params)\n",
    "\n",
    "_ = evaluate_mrr100_dev(es, max_concurrent_searches, index_defaults, template_id, query_params)"
   ]
  },
  {
   "cell_type": "markdown",
   "metadata": {},
   "source": [
    "Now let's optimize BM25. Before we do that, let's also increase the possible range of `k1` to make sure we really see a maximum score from somewhere within the range and not at a maximum or minumum value in the range."
   ]
  },
  {
   "cell_type": "code",
   "execution_count": 5,
   "metadata": {},
   "outputs": [
    {
     "name": "stdout",
     "output_type": "stream",
     "text": [
      "Optimizing parameters\n",
      " - metric: MRR@100\n",
      " - queries: data/msmarco-document-sampled-queries.1000.tsv\n",
      " - queries: data/msmarco/document/msmarco-doctrain-qrels.tsv\n",
      " - iteration 2 scored 0.1973 with: {'k1': 0.9, 'b': 0.4}\n",
      " - iteration 3 scored 0.2141 with: {'k1': 7.6216229284879535, 'b': 0.4256251613098993}\n",
      " - iteration 4 scored 0.2254 with: {'k1': 2.9292673295927365, 'b': 0.5754532491320603}\n",
      " - iteration 5 scored 0.2282 with: {'k1': 8.56155692725763, 'b': 0.6168128147743803}\n",
      " - iteration 6 scored 0.2355 with: {'k1': 8.16514619203474, 'b': 0.8803501620397676}\n",
      " - iteration 7 scored 0.2297 with: {'k1': 6.456498253025747, 'b': 0.5856056937218106}\n",
      " - iteration 8 scored 0.2296 with: {'k1': 3.4534132998558227, 'b': 0.7257682129135442}\n",
      " - iteration 9 scored 0.2105 with: {'k1': 3.20780938177211, 'b': 0.3240662903913171}\n",
      " - iteration 10 scored 0.2231 with: {'k1': 6.569925544107271, 'b': 0.5098751080092196}\n",
      " - iteration 11 scored 0.2310 with: {'k1': 4.878740024020677, 'b': 0.9483386328590857}\n",
      " - iteration 12 scored 0.2356 with: {'k1': 8.261449478728942, 'b': 0.8370969743663617}\n",
      " - iteration 13 scored 0.2345 with: {'k1': 8.287294964972354, 'b': 0.8543264389110137}\n",
      " - iteration 14 scored 0.2298 with: {'k1': 5.056440638370831, 'b': 0.5636280289848348}\n",
      " - iteration 15 scored 0.2132 with: {'k1': 7.468249350288678, 'b': 0.4107976098554753}\n",
      " - iteration 16 scored 0.1843 with: {'k1': 0.6375505382311867, 'b': 0.34040561303984107}\n",
      " - iteration 17 scored 0.2178 with: {'k1': 1.939772329071832, 'b': 0.8740046949542151}\n",
      " - iteration 18 scored 0.2130 with: {'k1': 1.3850145142327468, 'b': 0.6523879452665693}\n",
      " - iteration 19 scored 0.2271 with: {'k1': 7.384755496711652, 'b': 0.5555867249671274}\n",
      " - iteration 20 scored 0.2135 with: {'k1': 7.31073922663769, 'b': 0.40559488238255226}\n",
      " - iteration 21 scored 0.2137 with: {'k1': 1.591796744061348, 'b': 0.47501128319927766}\n",
      " - iteration 22 scored 0.2007 with: {'k1': 0.7034492815435324, 'b': 0.8663478041785448}\n",
      " - iteration 23 scored 0.2298 with: {'k1': 4.0460865547898255, 'b': 0.9220498516312008}\n",
      " - iteration 24 scored 0.2209 with: {'k1': 5.2946316298932015, 'b': 0.45799512233400963}\n",
      " - iteration 25 scored 0.2317 with: {'k1': 7.482399394466739, 'b': 0.9708066542334517}\n",
      " - iteration 26 scored 0.2157 with: {'k1': 4.691974604241616, 'b': 0.3874867495638742}\n",
      " - iteration 27 scored 0.2196 with: {'k1': 2.047582182610955, 'b': 0.8185207958538814}\n",
      " - iteration 28 scored 0.2310 with: {'k1': 10.0, 'b': 1.0}\n",
      " - iteration 29 scored 0.2370 with: {'k1': 6.370737864187097, 'b': 0.7882373937140406}\n",
      " - iteration 30 scored 0.2340 with: {'k1': 7.14299459190114, 'b': 0.7732917506544781}\n",
      " - iteration 31 scored 0.2345 with: {'k1': 10.0, 'b': 0.8064108328896129}\n",
      " - iteration 32 scored 0.1995 with: {'k1': 10.0, 'b': 0.3}\n",
      " - iteration 33 scored 0.2222 with: {'k1': 9.994118426606137, 'b': 0.5810592595449093}\n",
      " - iteration 34 scored 0.2253 with: {'k1': 3.07294121935705, 'b': 0.9988495526151202}\n",
      " - iteration 35 scored 0.2349 with: {'k1': 5.200562978796899, 'b': 0.7513519105225293}\n",
      " - iteration 36 scored 0.2302 with: {'k1': 5.834071385723626, 'b': 0.9992504712083006}\n",
      " - iteration 37 scored 0.2304 with: {'k1': 8.79282637905377, 'b': 0.9995876846070413}\n",
      " - iteration 38 scored 0.2312 with: {'k1': 9.991836532650147, 'b': 0.898311678482141}\n",
      " - iteration 39 scored 0.2371 with: {'k1': 6.232973695977211, 'b': 0.7869067672261869}\n",
      " - iteration 40 scored 0.2009 with: {'k1': 0.6684324454809303, 'b': 0.9997812200014924}\n",
      " - iteration 41 scored 0.2373 with: {'k1': 6.206262472747864, 'b': 0.7879774278978593}\n",
      " - iteration 42 scored 0.2334 with: {'k1': 9.049351194704403, 'b': 0.7509876733206431}\n",
      " - iteration 43 scored 0.2343 with: {'k1': 6.428207308325389, 'b': 0.8848893808853708}\n",
      " - iteration 44 scored 0.2345 with: {'k1': 4.826340615708102, 'b': 0.711251603438684}\n",
      " - iteration 45 scored 0.2330 with: {'k1': 7.516936101121852, 'b': 0.7185289337492811}\n",
      " - iteration 46 scored 0.2088 with: {'k1': 5.995792543005177, 'b': 0.302202281304101}\n",
      " - iteration 47 scored 0.2308 with: {'k1': 9.98411489593066, 'b': 0.7279613280784517}\n",
      " - iteration 48 scored 0.2344 with: {'k1': 5.028411531858795, 'b': 0.8402747275769822}\n",
      " - iteration 49 scored 0.2344 with: {'k1': 5.9309104759802524, 'b': 0.6896285796568011}\n",
      " - iteration 50 scored 0.2330 with: {'k1': 6.866717750450819, 'b': 0.9999876642569736}\n",
      "Best score: 0.2373\n",
      "Best params: {'k1': 6.206262472747864, 'b': 0.7879774278978593}\n",
      "Final params: {'k1': 6.206262472747864, 'b': 0.7879774278978593}\n",
      "\n",
      "CPU times: user 59.5 s, sys: 10.3 s, total: 1min 9s\n",
      "Wall time: 26min 12s\n"
     ]
    }
   ],
   "source": [
    "%%time\n",
    "\n",
    "_, best_params, _, metadata = optimize_bm25_mrr100(es, max_concurrent_searches, index_defaults, template_id, query_params,\n",
    "    config_space=Config.parse({\n",
    "        'method': 'bayesian',\n",
    "        'num_iterations': 50,\n",
    "        'num_initial_points': 25,\n",
    "        'space': {\n",
    "            'k1': { 'low': 0.5, 'high': 10.0 },\n",
    "            'b': { 'low': 0.3, 'high': 1.0 },\n",
    "        }\n",
    "    }))"
   ]
  },
  {
   "cell_type": "code",
   "execution_count": 6,
   "metadata": {},
   "outputs": [
    {
     "data": {
      "image/png": "[encoded data removed]",
      "text/plain": [
       "<Figure size 288x288 with 4 Axes>"
      ]
     },
     "metadata": {
      "needs_background": "light"
     },
     "output_type": "display_data"
    }
   ],
   "source": [
    "_ = plot_objective(metadata, sample_source='result')"
   ]
  },
  {
   "cell_type": "code",
   "execution_count": 7,
   "metadata": {},
   "outputs": [
    {
     "name": "stdout",
     "output_type": "stream",
     "text": [
      "Evaluation with: MRR@100\n",
      "Score: 0.2665\n",
      "CPU times: user 2.2 s, sys: 650 ms, total: 2.85 s\n",
      "Wall time: 2min 55s\n"
     ]
    }
   ],
   "source": [
    "%%time\n",
    "\n",
    "set_bm25_parameters(es, index_defaults, **best_params)\n",
    "\n",
    "_ = evaluate_mrr100_dev(es, max_concurrent_searches, index_defaults, template_id, query_params)"
   ]
  },
  {
   "cell_type": "markdown",
   "metadata": {},
   "source": [
    "That's a much larger improvement over the baseline, and actually this optimized version with the default analyzers beats the tuned version with the custom analyzers! Goes to show you that you can't make assumptions — you need to test your hypothesis!"
   ]
  },
  {
   "cell_type": "markdown",
   "metadata": {},
   "source": [
    "## Conclusion"
   ]
  },
  {
   "cell_type": "markdown",
   "metadata": {},
   "source": [
    "Before we wrap up, it's good to set all the indices back to their default values, in case we use those indices for other experiments."
   ]
  },
  {
   "cell_type": "code",
   "execution_count": 9,
   "metadata": {},
   "outputs": [],
   "source": [
    "set_bm25_parameters(es, index, **default_bm25_params)\n",
    "set_bm25_parameters(es, index_defaults, **default_bm25_params)"
   ]
  },
  {
   "cell_type": "markdown",
   "metadata": {},
   "source": [
    "We've shown a very simple but principled way to tune BM25 parameters `k1` and `b`. We've used a similar approach as when optimizing query parameters. In this case, it was useful to rely on Bayesian optimization since we set a pretty wide range over parameters. Stepping through each 1/10th or 1/100th of each parameter in a grid search would be very time consuming indeed."
   ]
  },
  {
   "cell_type": "code",
   "execution_count": null,
   "metadata": {},
   "outputs": [],
   "source": []
  }
 ],
 "metadata": {
  "kernelspec": {
   "display_name": "Python 3",
   "language": "python",
   "name": "python3"
  },
  "language_info": {
   "codemirror_mode": {
    "name": "ipython",
    "version": 3
   },
   "file_extension": ".py",
   "mimetype": "text/x-python",
   "name": "python",
   "nbconvert_exporter": "python",
   "pygments_lexer": "ipython3",
   "version": "3.7.7"
  }
 },
 "nbformat": 4,
 "nbformat_minor": 4
}
